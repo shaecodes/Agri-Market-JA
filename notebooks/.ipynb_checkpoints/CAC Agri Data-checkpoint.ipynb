{
 "cells": [
  {
   "cell_type": "code",
   "execution_count": 1,
   "id": "5e15e557-beaa-464c-84da-763bda9894de",
   "metadata": {},
   "outputs": [],
   "source": [
    "import pandas as pd"
   ]
  },
  {
   "cell_type": "code",
   "execution_count": 3,
   "id": "79f4bfcb-39f1-457b-bce3-b1c4a441b6bf",
   "metadata": {},
   "outputs": [],
   "source": [
    "agriculture_data = pd.read_excel(\"../data/agriculture 04.19.2025.xlsx\", header=[0, 1])"
   ]
  },
  {
   "cell_type": "code",
   "execution_count": 4,
   "id": "c1a1065f-eaf8-4271-8a4d-b0719e2845ca",
   "metadata": {},
   "outputs": [],
   "source": [
    "agriculture_data.columns = ['_'.join([str(i).strip() for i in col if pd.notna(i)]) for col in agriculture_data.columns.values]"
   ]
  },
  {
   "cell_type": "code",
   "execution_count": 5,
   "id": "15ce9bb5-c809-4f03-987d-1e57fca92fe1",
   "metadata": {},
   "outputs": [
    {
     "data": {
      "text/html": [
       "<div>\n",
       "<style scoped>\n",
       "    .dataframe tbody tr th:only-of-type {\n",
       "        vertical-align: middle;\n",
       "    }\n",
       "\n",
       "    .dataframe tbody tr th {\n",
       "        vertical-align: top;\n",
       "    }\n",
       "\n",
       "    .dataframe thead th {\n",
       "        text-align: right;\n",
       "    }\n",
       "</style>\n",
       "<table border=\"1\" class=\"dataframe\">\n",
       "  <thead>\n",
       "    <tr style=\"text-align: right;\">\n",
       "      <th></th>\n",
       "      <th>Unnamed: 0_level_0_Unnamed: 0_level_1</th>\n",
       "      <th>Unnamed: 1_level_0_Unnamed: 1_level_1</th>\n",
       "      <th>PAPINE_Lowest</th>\n",
       "      <th>PAPINE_Highest</th>\n",
       "      <th>PAPINE_Most\\nFreq.</th>\n",
       "      <th>CORONATION_Lowest</th>\n",
       "      <th>CORONATION_Highest</th>\n",
       "      <th>CORONATION_Most Freq.</th>\n",
       "      <th>CROSS ROADS_Lowest</th>\n",
       "      <th>CROSS ROADS_Highest</th>\n",
       "      <th>...</th>\n",
       "      <th>BARBICAN\\nROAD_Hi-Lo</th>\n",
       "      <th>CONSTANT SPRING_Hi-Lo</th>\n",
       "      <th>CONSTANT SPRING_Select\\nGrocers</th>\n",
       "      <th>HARBOUR\\nVIEW_Shoppers\\nFair</th>\n",
       "      <th>RED HILLS ROAD_Lee's Food\\nFair</th>\n",
       "      <th>RED HILLS ROAD_Price\\nSmart</th>\n",
       "      <th>PORTMORE_Progressive\\nFoods</th>\n",
       "      <th>PORTMORE_Mega\\nMart</th>\n",
       "      <th>PORTMORE_Joong</th>\n",
       "      <th>PORTMORE_Hi-Lo</th>\n",
       "    </tr>\n",
       "  </thead>\n",
       "  <tbody>\n",
       "    <tr>\n",
       "      <th>0</th>\n",
       "      <td>Broccoli</td>\n",
       "      <td>Imported</td>\n",
       "      <td>NaN</td>\n",
       "      <td>NaN</td>\n",
       "      <td>NaN</td>\n",
       "      <td>2200.0</td>\n",
       "      <td>2200.0</td>\n",
       "      <td>2200.00</td>\n",
       "      <td>NaN</td>\n",
       "      <td>NaN</td>\n",
       "      <td>...</td>\n",
       "      <td>3060.89</td>\n",
       "      <td>3060.89</td>\n",
       "      <td>3000.0</td>\n",
       "      <td>1526.20</td>\n",
       "      <td>2480.18</td>\n",
       "      <td>NaN</td>\n",
       "      <td>NaN</td>\n",
       "      <td>2800.0</td>\n",
       "      <td>2250.0</td>\n",
       "      <td>3060.89</td>\n",
       "    </tr>\n",
       "    <tr>\n",
       "      <th>1</th>\n",
       "      <td>Cabbage (Green)</td>\n",
       "      <td>Local</td>\n",
       "      <td>330.0</td>\n",
       "      <td>440.0</td>\n",
       "      <td>403.33</td>\n",
       "      <td>110.0</td>\n",
       "      <td>264.0</td>\n",
       "      <td>162.80</td>\n",
       "      <td>330.0</td>\n",
       "      <td>330.0</td>\n",
       "      <td>...</td>\n",
       "      <td>1447.16</td>\n",
       "      <td>745.34</td>\n",
       "      <td>495.0</td>\n",
       "      <td>330.00</td>\n",
       "      <td>634.93</td>\n",
       "      <td>999.0</td>\n",
       "      <td>330.00</td>\n",
       "      <td>580.0</td>\n",
       "      <td>660.0</td>\n",
       "      <td>745.34</td>\n",
       "    </tr>\n",
       "    <tr>\n",
       "      <th>2</th>\n",
       "      <td>Cabbage (Red)</td>\n",
       "      <td>Imported</td>\n",
       "      <td>NaN</td>\n",
       "      <td>NaN</td>\n",
       "      <td>NaN</td>\n",
       "      <td>1100.0</td>\n",
       "      <td>1100.0</td>\n",
       "      <td>1100.00</td>\n",
       "      <td>NaN</td>\n",
       "      <td>NaN</td>\n",
       "      <td>...</td>\n",
       "      <td>1157.01</td>\n",
       "      <td>1157.00</td>\n",
       "      <td>1250.0</td>\n",
       "      <td>693.80</td>\n",
       "      <td>925.93</td>\n",
       "      <td>NaN</td>\n",
       "      <td>481.80</td>\n",
       "      <td>1360.0</td>\n",
       "      <td>1167.0</td>\n",
       "      <td>1157.01</td>\n",
       "    </tr>\n",
       "    <tr>\n",
       "      <th>3</th>\n",
       "      <td>Callaloo</td>\n",
       "      <td>Shredded</td>\n",
       "      <td>660.0</td>\n",
       "      <td>770.0</td>\n",
       "      <td>715.00</td>\n",
       "      <td>440.0</td>\n",
       "      <td>550.0</td>\n",
       "      <td>513.33</td>\n",
       "      <td>660.0</td>\n",
       "      <td>660.0</td>\n",
       "      <td>...</td>\n",
       "      <td>772.20</td>\n",
       "      <td>772.20</td>\n",
       "      <td>NaN</td>\n",
       "      <td>659.98</td>\n",
       "      <td>554.40</td>\n",
       "      <td>449.0</td>\n",
       "      <td>659.98</td>\n",
       "      <td>627.0</td>\n",
       "      <td>NaN</td>\n",
       "      <td>569.80</td>\n",
       "    </tr>\n",
       "    <tr>\n",
       "      <th>4</th>\n",
       "      <td>Callaloo</td>\n",
       "      <td>Whole</td>\n",
       "      <td>616.0</td>\n",
       "      <td>660.0</td>\n",
       "      <td>645.33</td>\n",
       "      <td>330.0</td>\n",
       "      <td>330.0</td>\n",
       "      <td>330.00</td>\n",
       "      <td>660.0</td>\n",
       "      <td>660.0</td>\n",
       "      <td>...</td>\n",
       "      <td>519.00</td>\n",
       "      <td>NaN</td>\n",
       "      <td>NaN</td>\n",
       "      <td>450.00</td>\n",
       "      <td>550.00</td>\n",
       "      <td>NaN</td>\n",
       "      <td>450.00</td>\n",
       "      <td>NaN</td>\n",
       "      <td>NaN</td>\n",
       "      <td>519.00</td>\n",
       "    </tr>\n",
       "  </tbody>\n",
       "</table>\n",
       "<p>5 rows × 32 columns</p>\n",
       "</div>"
      ],
      "text/plain": [
       "  Unnamed: 0_level_0_Unnamed: 0_level_1 Unnamed: 1_level_0_Unnamed: 1_level_1  \\\n",
       "0                              Broccoli                              Imported   \n",
       "1                       Cabbage (Green)                                 Local   \n",
       "2                         Cabbage (Red)                              Imported   \n",
       "3                              Callaloo                              Shredded   \n",
       "4                              Callaloo                                 Whole   \n",
       "\n",
       "   PAPINE_Lowest  PAPINE_Highest  PAPINE_Most\\nFreq.  CORONATION_Lowest  \\\n",
       "0            NaN             NaN                 NaN             2200.0   \n",
       "1          330.0           440.0              403.33              110.0   \n",
       "2            NaN             NaN                 NaN             1100.0   \n",
       "3          660.0           770.0              715.00              440.0   \n",
       "4          616.0           660.0              645.33              330.0   \n",
       "\n",
       "   CORONATION_Highest  CORONATION_Most Freq.  CROSS ROADS_Lowest  \\\n",
       "0              2200.0                2200.00                 NaN   \n",
       "1               264.0                 162.80               330.0   \n",
       "2              1100.0                1100.00                 NaN   \n",
       "3               550.0                 513.33               660.0   \n",
       "4               330.0                 330.00               660.0   \n",
       "\n",
       "   CROSS ROADS_Highest  ...  BARBICAN\\nROAD_Hi-Lo  CONSTANT SPRING_Hi-Lo  \\\n",
       "0                  NaN  ...               3060.89                3060.89   \n",
       "1                330.0  ...               1447.16                 745.34   \n",
       "2                  NaN  ...               1157.01                1157.00   \n",
       "3                660.0  ...                772.20                 772.20   \n",
       "4                660.0  ...                519.00                    NaN   \n",
       "\n",
       "   CONSTANT SPRING_Select\\nGrocers  HARBOUR\\nVIEW_Shoppers\\nFair  \\\n",
       "0                           3000.0                       1526.20   \n",
       "1                            495.0                        330.00   \n",
       "2                           1250.0                        693.80   \n",
       "3                              NaN                        659.98   \n",
       "4                              NaN                        450.00   \n",
       "\n",
       "   RED HILLS ROAD_Lee's Food\\nFair  RED HILLS ROAD_Price\\nSmart  \\\n",
       "0                          2480.18                          NaN   \n",
       "1                           634.93                        999.0   \n",
       "2                           925.93                          NaN   \n",
       "3                           554.40                        449.0   \n",
       "4                           550.00                          NaN   \n",
       "\n",
       "   PORTMORE_Progressive\\nFoods  PORTMORE_Mega\\nMart  PORTMORE_Joong  \\\n",
       "0                          NaN               2800.0          2250.0   \n",
       "1                       330.00                580.0           660.0   \n",
       "2                       481.80               1360.0          1167.0   \n",
       "3                       659.98                627.0             NaN   \n",
       "4                       450.00                  NaN             NaN   \n",
       "\n",
       "   PORTMORE_Hi-Lo  \n",
       "0         3060.89  \n",
       "1          745.34  \n",
       "2         1157.01  \n",
       "3          569.80  \n",
       "4          519.00  \n",
       "\n",
       "[5 rows x 32 columns]"
      ]
     },
     "execution_count": 5,
     "metadata": {},
     "output_type": "execute_result"
    }
   ],
   "source": [
    "agriculture_data.head()"
   ]
  },
  {
   "cell_type": "code",
   "execution_count": 6,
   "id": "14365e03-34f8-4adc-a7d8-2d19b43dbdee",
   "metadata": {},
   "outputs": [
    {
     "ename": "KeyError",
     "evalue": "'Unnamed: 0_level_0_Commodity'",
     "output_type": "error",
     "traceback": [
      "\u001b[1;31m---------------------------------------------------------------------------\u001b[0m",
      "\u001b[1;31mKeyError\u001b[0m                                  Traceback (most recent call last)",
      "File \u001b[1;32m~\\AppData\\Local\\Packages\\PythonSoftwareFoundation.Python.3.11_qbz5n2kfra8p0\\LocalCache\\local-packages\\Python311\\site-packages\\pandas\\core\\indexes\\base.py:3805\u001b[0m, in \u001b[0;36mIndex.get_loc\u001b[1;34m(self, key)\u001b[0m\n\u001b[0;32m   3804\u001b[0m \u001b[38;5;28;01mtry\u001b[39;00m:\n\u001b[1;32m-> 3805\u001b[0m     \u001b[38;5;28;01mreturn\u001b[39;00m \u001b[38;5;28;43mself\u001b[39;49m\u001b[38;5;241;43m.\u001b[39;49m\u001b[43m_engine\u001b[49m\u001b[38;5;241;43m.\u001b[39;49m\u001b[43mget_loc\u001b[49m\u001b[43m(\u001b[49m\u001b[43mcasted_key\u001b[49m\u001b[43m)\u001b[49m\n\u001b[0;32m   3806\u001b[0m \u001b[38;5;28;01mexcept\u001b[39;00m \u001b[38;5;167;01mKeyError\u001b[39;00m \u001b[38;5;28;01mas\u001b[39;00m err:\n",
      "File \u001b[1;32mindex.pyx:167\u001b[0m, in \u001b[0;36mpandas._libs.index.IndexEngine.get_loc\u001b[1;34m()\u001b[0m\n",
      "File \u001b[1;32mindex.pyx:196\u001b[0m, in \u001b[0;36mpandas._libs.index.IndexEngine.get_loc\u001b[1;34m()\u001b[0m\n",
      "File \u001b[1;32mpandas\\\\_libs\\\\hashtable_class_helper.pxi:7081\u001b[0m, in \u001b[0;36mpandas._libs.hashtable.PyObjectHashTable.get_item\u001b[1;34m()\u001b[0m\n",
      "File \u001b[1;32mpandas\\\\_libs\\\\hashtable_class_helper.pxi:7089\u001b[0m, in \u001b[0;36mpandas._libs.hashtable.PyObjectHashTable.get_item\u001b[1;34m()\u001b[0m\n",
      "\u001b[1;31mKeyError\u001b[0m: 'Unnamed: 0_level_0_Commodity'",
      "\nThe above exception was the direct cause of the following exception:\n",
      "\u001b[1;31mKeyError\u001b[0m                                  Traceback (most recent call last)",
      "Cell \u001b[1;32mIn[6], line 1\u001b[0m\n\u001b[1;32m----> 1\u001b[0m agriculture_data[\u001b[38;5;124m'\u001b[39m\u001b[38;5;124mCommodity\u001b[39m\u001b[38;5;124m'\u001b[39m] \u001b[38;5;241m=\u001b[39m \u001b[43magriculture_data\u001b[49m\u001b[43m[\u001b[49m\u001b[38;5;124;43m'\u001b[39;49m\u001b[38;5;124;43mUnnamed: 0_level_0_Commodity\u001b[39;49m\u001b[38;5;124;43m'\u001b[39;49m\u001b[43m]\u001b[49m\u001b[38;5;241m.\u001b[39mastype(\u001b[38;5;28mstr\u001b[39m) \u001b[38;5;241m+\u001b[39m \u001b[38;5;124m'\u001b[39m\u001b[38;5;124m \u001b[39m\u001b[38;5;124m'\u001b[39m \u001b[38;5;241m+\u001b[39m agriculture_data[\u001b[38;5;124m'\u001b[39m\u001b[38;5;124mUnnamed: 1_level_0_Variety/Source\u001b[39m\u001b[38;5;124m'\u001b[39m]\u001b[38;5;241m.\u001b[39mastype(\u001b[38;5;28mstr\u001b[39m)\n",
      "File \u001b[1;32m~\\AppData\\Local\\Packages\\PythonSoftwareFoundation.Python.3.11_qbz5n2kfra8p0\\LocalCache\\local-packages\\Python311\\site-packages\\pandas\\core\\frame.py:4102\u001b[0m, in \u001b[0;36mDataFrame.__getitem__\u001b[1;34m(self, key)\u001b[0m\n\u001b[0;32m   4100\u001b[0m \u001b[38;5;28;01mif\u001b[39;00m \u001b[38;5;28mself\u001b[39m\u001b[38;5;241m.\u001b[39mcolumns\u001b[38;5;241m.\u001b[39mnlevels \u001b[38;5;241m>\u001b[39m \u001b[38;5;241m1\u001b[39m:\n\u001b[0;32m   4101\u001b[0m     \u001b[38;5;28;01mreturn\u001b[39;00m \u001b[38;5;28mself\u001b[39m\u001b[38;5;241m.\u001b[39m_getitem_multilevel(key)\n\u001b[1;32m-> 4102\u001b[0m indexer \u001b[38;5;241m=\u001b[39m \u001b[38;5;28;43mself\u001b[39;49m\u001b[38;5;241;43m.\u001b[39;49m\u001b[43mcolumns\u001b[49m\u001b[38;5;241;43m.\u001b[39;49m\u001b[43mget_loc\u001b[49m\u001b[43m(\u001b[49m\u001b[43mkey\u001b[49m\u001b[43m)\u001b[49m\n\u001b[0;32m   4103\u001b[0m \u001b[38;5;28;01mif\u001b[39;00m is_integer(indexer):\n\u001b[0;32m   4104\u001b[0m     indexer \u001b[38;5;241m=\u001b[39m [indexer]\n",
      "File \u001b[1;32m~\\AppData\\Local\\Packages\\PythonSoftwareFoundation.Python.3.11_qbz5n2kfra8p0\\LocalCache\\local-packages\\Python311\\site-packages\\pandas\\core\\indexes\\base.py:3812\u001b[0m, in \u001b[0;36mIndex.get_loc\u001b[1;34m(self, key)\u001b[0m\n\u001b[0;32m   3807\u001b[0m     \u001b[38;5;28;01mif\u001b[39;00m \u001b[38;5;28misinstance\u001b[39m(casted_key, \u001b[38;5;28mslice\u001b[39m) \u001b[38;5;129;01mor\u001b[39;00m (\n\u001b[0;32m   3808\u001b[0m         \u001b[38;5;28misinstance\u001b[39m(casted_key, abc\u001b[38;5;241m.\u001b[39mIterable)\n\u001b[0;32m   3809\u001b[0m         \u001b[38;5;129;01mand\u001b[39;00m \u001b[38;5;28many\u001b[39m(\u001b[38;5;28misinstance\u001b[39m(x, \u001b[38;5;28mslice\u001b[39m) \u001b[38;5;28;01mfor\u001b[39;00m x \u001b[38;5;129;01min\u001b[39;00m casted_key)\n\u001b[0;32m   3810\u001b[0m     ):\n\u001b[0;32m   3811\u001b[0m         \u001b[38;5;28;01mraise\u001b[39;00m InvalidIndexError(key)\n\u001b[1;32m-> 3812\u001b[0m     \u001b[38;5;28;01mraise\u001b[39;00m \u001b[38;5;167;01mKeyError\u001b[39;00m(key) \u001b[38;5;28;01mfrom\u001b[39;00m\u001b[38;5;250m \u001b[39m\u001b[38;5;21;01merr\u001b[39;00m\n\u001b[0;32m   3813\u001b[0m \u001b[38;5;28;01mexcept\u001b[39;00m \u001b[38;5;167;01mTypeError\u001b[39;00m:\n\u001b[0;32m   3814\u001b[0m     \u001b[38;5;66;03m# If we have a listlike key, _check_indexing_error will raise\u001b[39;00m\n\u001b[0;32m   3815\u001b[0m     \u001b[38;5;66;03m#  InvalidIndexError. Otherwise we fall through and re-raise\u001b[39;00m\n\u001b[0;32m   3816\u001b[0m     \u001b[38;5;66;03m#  the TypeError.\u001b[39;00m\n\u001b[0;32m   3817\u001b[0m     \u001b[38;5;28mself\u001b[39m\u001b[38;5;241m.\u001b[39m_check_indexing_error(key)\n",
      "\u001b[1;31mKeyError\u001b[0m: 'Unnamed: 0_level_0_Commodity'"
     ]
    }
   ],
   "source": [
    "agriculture_data['Commodity'] = agriculture_data['Unnamed: 0_level_0_Unnamed: 0_level_1'].astype(str) + ' ' + agriculture_data['Unnamed: 1_level_0_Unnamed: 1_level_1'].astype(str)"
   ]
  },
  {
   "cell_type": "code",
   "execution_count": null,
   "id": "7b9bda0c-af6a-4032-8a9e-78c514b9a58f",
   "metadata": {},
   "outputs": [],
   "source": [
    "agriculture_data.drop(['Unnamed: 0_level_0_Commodity', 'Unnamed: 1_level_0_Variety/Source', 'PAPINE_Lowest','PAPINE_Highest','CORONATION_Lowest', 'CORONATION_Highest','CROSS ROADS_Lowest', 'CROSS ROADS_Highest'], axis=1, inplace=True)"
   ]
  },
  {
   "cell_type": "code",
   "execution_count": null,
   "id": "0ce66ddf-25d8-4638-a3f2-64b34109e611",
   "metadata": {},
   "outputs": [],
   "source": [
    "agriculture_data = agriculture_data[['Commodity'] + [col for col in agriculture_data.columns if col != 'Commodity']]"
   ]
  },
  {
   "cell_type": "code",
   "execution_count": null,
   "id": "50c61bf6-46fe-492f-8bc2-5fc4171cdcf2",
   "metadata": {},
   "outputs": [],
   "source": [
    "agriculture_data.rename(\n",
    "    columns=lambda col: col.replace(\"Most Freq.\", \"Market\") if col.endswith(\"Most Freq.\") else col,\n",
    "    inplace=True\n",
    ")"
   ]
  },
  {
   "cell_type": "code",
   "execution_count": null,
   "id": "906b9026-7e39-4e0b-bb89-ed28cd098e6e",
   "metadata": {},
   "outputs": [],
   "source": [
    "agriculture_data = agriculture_data.melt(id_vars=['Commodity'], var_name='Market', value_name='Price')"
   ]
  },
  {
   "cell_type": "code",
   "execution_count": null,
   "id": "f54546a9-982a-4ef5-980d-fd1c213c766c",
   "metadata": {},
   "outputs": [],
   "source": [
    "agriculture_data['Market'] = agriculture_data['Market'].str.replace('_', ' ', regex=False)\n",
    "agriculture_data['Market'] = agriculture_data['Market'].str.replace('\\n', ' ', regex=False)"
   ]
  },
  {
   "cell_type": "code",
   "execution_count": null,
   "id": "435ec59c-0908-44ed-bd7e-b0060a4831d6",
   "metadata": {},
   "outputs": [],
   "source": [
    "unique_markets = agriculture_data['Market'].unique()\n",
    "print(unique_markets)"
   ]
  },
  {
   "cell_type": "code",
   "execution_count": null,
   "id": "9bdd9920-ba77-4efc-bd11-b89e5c3d3e8b",
   "metadata": {},
   "outputs": [],
   "source": [
    "unique_commodity = agriculture_data['Commodity'].unique()\n",
    "print(unique_commodity)"
   ]
  },
  {
   "cell_type": "code",
   "execution_count": null,
   "id": "170c82b8-fa05-44eb-a7d6-87fa97a674be",
   "metadata": {},
   "outputs": [],
   "source": [
    "agriculture_data.to_json(\"../data/agriculture_data.json\", orient=\"records\", indent=2)"
   ]
  },
  {
   "cell_type": "code",
   "execution_count": null,
   "id": "fb222ccd-17c7-4735-985e-2c671995d7d7",
   "metadata": {},
   "outputs": [],
   "source": [
    "agriculture_data.sample(10)"
   ]
  },
  {
   "cell_type": "code",
   "execution_count": null,
   "id": "82c345a7-06af-4f32-9bc3-2f47ac664eef",
   "metadata": {},
   "outputs": [],
   "source": []
  },
  {
   "cell_type": "code",
   "execution_count": null,
   "id": "2f65b7a0-c4a9-42c3-b35f-a73a97d13db0",
   "metadata": {},
   "outputs": [],
   "source": []
  }
 ],
 "metadata": {
  "kernelspec": {
   "display_name": "Python 3 (ipykernel)",
   "language": "python",
   "name": "python3"
  },
  "language_info": {
   "codemirror_mode": {
    "name": "ipython",
    "version": 3
   },
   "file_extension": ".py",
   "mimetype": "text/x-python",
   "name": "python",
   "nbconvert_exporter": "python",
   "pygments_lexer": "ipython3",
   "version": "3.11.9"
  }
 },
 "nbformat": 4,
 "nbformat_minor": 5
}
